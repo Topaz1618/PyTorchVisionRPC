{
 "cells": [
  {
   "cell_type": "code",
   "execution_count": 2,
   "id": "69693b91-6100-423c-9762-f09e80104410",
   "metadata": {},
   "outputs": [
    {
     "data": {
      "text/plain": [
       "'0.0423'"
      ]
     },
     "execution_count": 2,
     "metadata": {},
     "output_type": "execute_result"
    }
   ],
   "source": [
    "a = 0.04232892766594887\n",
    "str(round(a, 4))"
   ]
  },
  {
   "cell_type": "code",
   "execution_count": null,
   "id": "7cb331a2-4100-4691-99c1-fb3131b8d769",
   "metadata": {},
   "outputs": [],
   "source": []
  }
 ],
 "metadata": {
  "kernelspec": {
   "display_name": "myconda",
   "language": "python",
   "name": "myconda"
  },
  "language_info": {
   "codemirror_mode": {
    "name": "ipython",
    "version": 3
   },
   "file_extension": ".py",
   "mimetype": "text/x-python",
   "name": "python",
   "nbconvert_exporter": "python",
   "pygments_lexer": "ipython3",
   "version": "3.8.12"
  }
 },
 "nbformat": 4,
 "nbformat_minor": 5
}
