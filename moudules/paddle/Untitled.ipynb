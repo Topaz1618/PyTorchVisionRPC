{
 "cells": [
  {
   "cell_type": "code",
   "execution_count": 1,
   "id": "ed220a42-6e28-48a4-bbf1-72a0c4435e83",
   "metadata": {},
   "outputs": [],
   "source": [
    "a = {'Global': {'debug': False, 'use_gpu': True, 'epoch_num': 500, 'log_smooth_window': 20, 'print_batch_step': 10, \n",
    "            'save_model_dir': './output/v3_en_mobile', 'save_epoch_step': 3, 'eval_batch_step': [0, 2000], \n",
    "            'cal_metric_during_train': True, 'pretrained_model': './pretrain_models/en_PP-OCRv3_rec_train/best_accuracy', \n",
    "            'checkpoints': None, 'save_inference_dir': None, 'use_visualdl': False, 'infer_img': 'doc/imgs_words/ch/word_1.jpg', \n",
    "            'character_dict_path': 'ppocr/utils/en_dict.txt', 'max_text_length': 25, 'infer_mode': False, 'use_space_char': True, \n",
    "            'distributed': False, 'save_res_path': './output/rec/predicts_ppocrv3_en.txt'}, \n",
    " 'Optimizer': {'name': 'Adam', 'beta1': 0.9, 'beta2': 0.999, \n",
    "               'lr': {'name': 'Cosine', 'learning_rate': 0.001, 'warmup_epoch': 5}, \n",
    "               'regularizer': {'name': 'L2', 'factor': 3e-05}}, \n",
    " 'Architecture': {\n",
    "     'model_type': 'rec', 'algorithm': 'SVTR_LCNet', 'Transform': None, \n",
    "                  \n",
    "                  'Backbone': {\n",
    "                      'name': 'MobileNetV1Enhance', 'scale': 0.5, 'last_conv_stride': [1, 2], \n",
    "                      'last_pool_type': 'avg', 'last_pool_kernel_size': [2, 2]}, \n",
    "                  'Head': {'name': 'MultiHead', \n",
    "                           'head_list': [{'CTCHead': {'Neck': {'name': 'svtr', 'dims': 64, 'depth': 2, 'hidden_dims': 120, 'use_guide': True}, \n",
    "                                                      'Head': {'fc_decay': 1e-05}}}, {'SARHead': {'enc_dim': 512, 'max_text_length': 25}}]}}, \n",
    "     'Loss': {'name': 'MultiLoss', 'loss_config_list': [{'CTCLoss': None}, {'SARLoss': None}]}, \n",
    "     'PostProcess': {'name': 'CTCLabelDecode'}, \n",
    "     'Metric': {'name': 'RecMetric', 'main_indicator': 'acc', 'ignore_space': False}, \n",
    "     'Train': {'dataset': {'name': 'SimpleDataSet', 'data_dir': './train_data/', 'ext_op_transform_idx': 1, \n",
    "                           'label_file_list': ['./train_data/train_list.txt'], \n",
    "                           'transforms': [{'DecodeImage': {'img_mode': 'BGR', 'channel_first': False}}, \n",
    "                                          {'RecConAug': {'prob': 0.5, 'ext_data_num': 2, 'image_shape': [48, 320, 3], 'max_text_length': 25}}, \n",
    "                                          {'RecAug': None}, {'MultiLabelEncode': None}, \n",
    "                                          {'RecResizeImg': {'image_shape': [3, 48, 320]}}, \n",
    "                                          {'KeepKeys': {'keep_keys': ['image', 'label_ctc', 'label_sar', 'length', 'valid_ratio']}}]}, \n",
    "                  'loader': {'shuffle': True, 'batch_size_per_card': 128, 'drop_last': True, 'num_workers': 4}}, \n",
    "     'Eval': {'dataset': {'name': 'SimpleDataSet', 'data_dir': './train_data', 'label_file_list': ['./train_data/val_list.txt'], 'transforms': [{'DecodeImage': {'img_mode': 'BGR', 'channel_first': False}}, {'MultiLabelEncode': None}, {'RecResizeImg': {'image_shape': [3, 48, 320]}}, {'KeepKeys': {'keep_keys': ['image', 'label_ctc', 'label_sar', 'length', 'valid_ratio']}}]}, 'loader': \n",
    "{'shuffle': False, 'drop_last': False, 'batch_size_per_card': 128, 'num_workers': 4}}, \n",
    " 'profiler_options': None}"
   ]
  },
  {
   "cell_type": "code",
   "execution_count": 2,
   "id": "77b5c48e-fb34-4853-948f-603973040e80",
   "metadata": {},
   "outputs": [
    {
     "data": {
      "text/plain": [
       "0.001"
      ]
     },
     "execution_count": 2,
     "metadata": {},
     "output_type": "execute_result"
    }
   ],
   "source": [
    "a[\"Optimizer\"][\"lr\"][\"learning_rate\"]"
   ]
  },
  {
   "cell_type": "code",
   "execution_count": 12,
   "id": "747c722f-7e1a-4777-90fb-511ca3e4660d",
   "metadata": {},
   "outputs": [
    {
     "data": {
      "text/plain": [
       "{'shuffle': True,\n",
       " 'batch_size_per_card': 128,\n",
       " 'drop_last': True,\n",
       " 'num_workers': 4}"
      ]
     },
     "execution_count": 12,
     "metadata": {},
     "output_type": "execute_result"
    }
   ],
   "source": [
    "a[\"Train\"][\"loader\"][\"batch_size_per_card\"]"
   ]
  },
  {
   "cell_type": "code",
   "execution_count": 13,
   "id": "226ce46d-f256-4205-a168-a20e4331e1a7",
   "metadata": {},
   "outputs": [
    {
     "data": {
      "text/plain": [
       "'./pretrain_models/en_PP-OCRv3_rec_train/best_accuracy'"
      ]
     },
     "execution_count": 13,
     "metadata": {},
     "output_type": "execute_result"
    }
   ],
   "source": [
    "a[\"Global\"][\"pretrained_model\"]"
   ]
  },
  {
   "cell_type": "code",
   "execution_count": null,
   "id": "a72548d9-47d6-40a5-a270-18bf788ef9b4",
   "metadata": {},
   "outputs": [],
   "source": []
  }
 ],
 "metadata": {
  "kernelspec": {
   "display_name": "myconda",
   "language": "python",
   "name": "myconda"
  },
  "language_info": {
   "codemirror_mode": {
    "name": "ipython",
    "version": 3
   },
   "file_extension": ".py",
   "mimetype": "text/x-python",
   "name": "python",
   "nbconvert_exporter": "python",
   "pygments_lexer": "ipython3",
   "version": "3.8.12"
  }
 },
 "nbformat": 4,
 "nbformat_minor": 5
}
